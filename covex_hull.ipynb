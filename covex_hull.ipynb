{
 "cells": [
  {
   "cell_type": "code",
   "execution_count": 1,
   "metadata": {},
   "outputs": [
    {
     "name": "stdout",
     "output_type": "stream",
     "text": [
      "The points in Convex Hull are:\n",
      "( 4 , 4 )  ( 0 , 0 )  ( 0 , 3 )  ( 3 , 1 )  "
     ]
    }
   ],
   "source": [
    "\n",
    "hull = set()\n",
    " \n",
    "def findSide(p1, p2, p):\n",
    "    val = (p[1] - p1[1]) * (p2[0] - p1[0]) - (p2[1] - p1[1]) * (p[0] - p1[0])\n",
    " \n",
    "    if val > 0:\n",
    "        return 1\n",
    "    if val < 0:\n",
    "        return -1\n",
    "    return 0\n",
    "\n",
    "def lineDist(p1, p2, p):\n",
    "    return abs((p[1] - p1[1]) * (p2[0] - p1[0]) -\n",
    "            (p2[1] - p1[1]) * (p[0] - p1[0]))\n",
    " \n",
    "\n",
    "def quickHull(a, n, p1, p2, side):\n",
    " \n",
    "    ind = -1\n",
    "    max_dist = 0\n",
    " \n",
    " \n",
    "    for i in range(n):\n",
    "        temp = lineDist(p1, p2, a[i])\n",
    "         \n",
    "        if (findSide(p1, p2, a[i]) == side) and (temp > max_dist):\n",
    "            ind = i\n",
    "            max_dist = temp\n",
    " \n",
    "    if ind == -1:\n",
    "        hull.add(\"$\".join(map(str, p1)))\n",
    "        hull.add(\"$\".join(map(str, p2)))\n",
    "        return\n",
    " \n",
    "    quickHull(a, n, a[ind], p1, -findSide(a[ind], p1, p2))\n",
    "    quickHull(a, n, a[ind], p2, -findSide(a[ind], p2, p1))\n",
    " \n",
    "def printHull(a, n):\n",
    "    if (n < 3):\n",
    "        print(\"Convex hull not possible\")\n",
    "        return\n",
    " \n",
    "    \n",
    "    min_x = 0\n",
    "    max_x = 0\n",
    "    for i in range(1, n):\n",
    "        if a[i][0] < a[min_x][0]:\n",
    "            min_x = i\n",
    "        if a[i][0] > a[max_x][0]:\n",
    "            max_x = i\n",
    " \n",
    "   \n",
    "    quickHull(a, n, a[min_x], a[max_x], 1)\n",
    " \n",
    "    \n",
    "    quickHull(a, n, a[min_x], a[max_x], -1)\n",
    " \n",
    "    print(\"The points in Convex Hull are:\")\n",
    "     \n",
    "    for element in hull:\n",
    "        x = element.split(\"$\")\n",
    "        print(\"(\", x[0], \",\", x[1], \") \", end = \" \")\n",
    " \n",
    "\n",
    "a = [[0, 3], [1, 1], [2, 2], [4, 4],\n",
    "     [0, 0], [1, 2], [3, 1], [3, 3]]\n",
    "n = len(a)\n",
    "printHull(a, n)\n",
    " "
   ]
  }
 ],
 "metadata": {
  "kernelspec": {
   "display_name": "base",
   "language": "python",
   "name": "python3"
  },
  "language_info": {
   "codemirror_mode": {
    "name": "ipython",
    "version": 3
   },
   "file_extension": ".py",
   "mimetype": "text/x-python",
   "name": "python",
   "nbconvert_exporter": "python",
   "pygments_lexer": "ipython3",
   "version": "3.9.13"
  },
  "orig_nbformat": 4,
  "vscode": {
   "interpreter": {
    "hash": "f08154012ddadd8e950e6e9e035c7a7b32c136e7647e9b7c77e02eb723a8bedb"
   }
  }
 },
 "nbformat": 4,
 "nbformat_minor": 2
}

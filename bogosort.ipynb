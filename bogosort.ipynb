{
 "cells": [
  {
   "cell_type": "markdown",
   "id": "2808fdf9",
   "metadata": {},
   "source": [
    "# Sorting"
   ]
  },
  {
   "cell_type": "code",
   "execution_count": 5,
   "id": "b46b410f",
   "metadata": {},
   "outputs": [],
   "source": [
    "import time\n",
    "import numpy as np\n",
    "np.random.seed(0)\n",
    "import random"
   ]
  },
  {
   "cell_type": "code",
   "execution_count": 46,
   "id": "881e765c",
   "metadata": {},
   "outputs": [],
   "source": [
    "data = np.random.randint(1,10000,17000)"
   ]
  },
  {
   "cell_type": "markdown",
   "id": "7dbcaac0",
   "metadata": {},
   "source": [
    "### Insertion Sort"
   ]
  },
  {
   "cell_type": "code",
   "execution_count": 7,
   "id": "b04ff63f",
   "metadata": {},
   "outputs": [],
   "source": [
    "def insertion_sort(arr):\n",
    "    start = time.time()\n",
    "    for i in range(1, len(arr)): \n",
    "        temp = arr[i]       \n",
    "        j = i-1\n",
    "        while j >= 0 and temp< arr[j] :\n",
    "                arr[j + 1] = arr[j]\n",
    "                j -= 1\n",
    "        arr[j + 1] = temp\n",
    "\n",
    "    end = time.time()\n",
    "    print(\"The time of execution of above program is :\", (end-start) * 10**3, \"ms\", \"for a size of \", len(arr))\n",
    "    return arr"
   ]
  },
  {
   "cell_type": "code",
   "execution_count": 8,
   "id": "938bce08",
   "metadata": {},
   "outputs": [
    {
     "name": "stdout",
     "output_type": "stream",
     "text": [
      "The time of execution of above program is : 29337.440967559814 ms for a size of  17000\n"
     ]
    }
   ],
   "source": [
    "arr= insertion_sort(data)"
   ]
  },
  {
   "cell_type": "code",
   "execution_count": 9,
   "id": "4a6799ab",
   "metadata": {},
   "outputs": [
    {
     "data": {
      "text/plain": [
       "array([   1,    1,    1, ..., 9999, 9999, 9999])"
      ]
     },
     "execution_count": 9,
     "metadata": {},
     "output_type": "execute_result"
    }
   ],
   "source": [
    "arr"
   ]
  },
  {
   "cell_type": "code",
   "execution_count": 51,
   "id": "2d651231",
   "metadata": {},
   "outputs": [],
   "source": [
    "dt=np.random.randint(1,10000,10)"
   ]
  },
  {
   "cell_type": "code",
   "execution_count": 11,
   "id": "b72b319c",
   "metadata": {},
   "outputs": [
    {
     "name": "stdout",
     "output_type": "stream",
     "text": [
      "The time of execution of above program is : 1.0020732879638672 ms for a size of  100\n"
     ]
    }
   ],
   "source": [
    "a= insertion_sort(dt)"
   ]
  },
  {
   "cell_type": "markdown",
   "id": "660c72b1",
   "metadata": {},
   "source": [
    "### Merge Sort"
   ]
  },
  {
   "cell_type": "code",
   "execution_count": 12,
   "id": "49e26c66",
   "metadata": {},
   "outputs": [],
   "source": [
    "def merge(arr):\n",
    "    if len(arr) > 1:\n",
    "         \n",
    "        mid = len(arr)//2         \n",
    "        left = arr[:mid] \n",
    "        right = arr[mid:] \n",
    "        \n",
    "        merge(left) \n",
    "       \n",
    "        merge(right)\n",
    " \n",
    "        i = j = k = 0 \n",
    "        \n",
    "        while i < len(left) and j < len(right):\n",
    "            if left[i] <= right[j]:\n",
    "                arr[k] = left[i]\n",
    "                i += 1\n",
    "            else:\n",
    "                arr[k] = right[j]\n",
    "                j += 1\n",
    "            k += 1 \n",
    "        \n",
    "        while i < len(left):\n",
    "            arr[k] = left[i]\n",
    "            i += 1\n",
    "            k += 1\n",
    " \n",
    "        while j < len(right):\n",
    "            arr[k] = right[j]\n",
    "            j += 1\n",
    "            k += 1"
   ]
  },
  {
   "cell_type": "code",
   "execution_count": 13,
   "id": "aed116e6",
   "metadata": {},
   "outputs": [],
   "source": [
    "#This method is just to calculate the time, if you don't need it, don't worry\n",
    "def merge_algorithm(arr):\n",
    "    start = time.time()\n",
    "    merge(arr)\n",
    "    end = time.time()\n",
    "    print(\"The time of execution of above program is :\", (end-start) * 10**3, \"ms\", \"for a size of \", len(arr))\n",
    "    return arr"
   ]
  },
  {
   "cell_type": "code",
   "execution_count": 43,
   "id": "65df9aa5",
   "metadata": {},
   "outputs": [
    {
     "name": "stdout",
     "output_type": "stream",
     "text": [
      "The time of execution of above program is : 132.61866569519043 ms for a size of  17000\n"
     ]
    },
    {
     "data": {
      "text/plain": [
       "array([   1,    1,    1, ..., 9999, 9999, 9999])"
      ]
     },
     "execution_count": 43,
     "metadata": {},
     "output_type": "execute_result"
    }
   ],
   "source": [
    "merge_algorithm(data)"
   ]
  },
  {
   "cell_type": "code",
   "execution_count": 21,
   "id": "af3e88df",
   "metadata": {},
   "outputs": [
    {
     "name": "stdout",
     "output_type": "stream",
     "text": [
      "The time of execution of above program is : 5.999326705932617 ms for a size of  1000\n"
     ]
    },
    {
     "data": {
      "text/plain": [
       "array([   6,    6,    6,    6,    6,    6,    6,    6,    6,    6,    6,\n",
       "          6,    6,    6,    6,    6,    6,    6,    6,    6,    6,    6,\n",
       "          6,    6,    6,    6,    6,    6,    6,    6,    6,    6,    6,\n",
       "          6,    6,    6,    6,    6,    6,    6,    6,    6,    6,    6,\n",
       "          6,    6,    6,    6,    6,    6,    6,    6,    6,    6,    6,\n",
       "          6,    6,    6,    6,    6,    6,    6,    6,    6,    6,    6,\n",
       "          6,    6,    6,    6,    6,    6,    6,    6,    6,    6,    6,\n",
       "          6,    6,    6,    6,    6,    6,    6,    6,    6,    6,    6,\n",
       "          6,    6,    6,    6,    6,    6,    6,    6,    6,    6,    6,\n",
       "          6,    6,    6,    6,    6,    6,    6,    6,    6,    6,    6,\n",
       "          6,    6,    6,    6,    6,    6,    6,    6,    6,    6,    6,\n",
       "          6,    6,    6,    6,    6,    6,    6,    6,    6,    6,    6,\n",
       "          6,    6,    6,    6,    6,    6,    6,    6,    6,    6,    6,\n",
       "          6,    6,    6,    6,    6,    6,    6,    6,    6,    6,    6,\n",
       "          6,    6,    6,    6,    6,    6,    6,    6,    6,    6,    6,\n",
       "          6,    6,    6,    6,    6,    6,    6,    6,    6,    6,    6,\n",
       "          6,    6,    6,    6,    6,    6,    6,    6,    6,    6,    6,\n",
       "          6,    6,    6,    6,    6,    6,    6,    6,    6,    6,    6,\n",
       "          6,    6,    6,    6,    6,    6,    6,    6,    6,    6,    6,\n",
       "          6,    6,    6,    6,    6,    6,    6,    6,    6,    6,    6,\n",
       "          6,    6,    6,    6,    6,    6,    6,    6,    6,    6,    6,\n",
       "          6,    6,    6,    6,    6,    6,    6,    6,    6,    6,    6,\n",
       "          6,    6,    6,    6,    6,    6,    6,    6,    6,    6,    6,\n",
       "          6,    6,    6,    6,    6,    6,    6,    6,    6,    6,    6,\n",
       "          6,    6,    6,    6,    6,    6,    6,    6,    6,    6,    6,\n",
       "          6,    6,    6,    6,    6,    6,    6,    6,    6,    6,    6,\n",
       "          6,    6,    6,    6,    6,    6,    6,    6,    6,    6,    6,\n",
       "          6,    6,    6,    6,    6,    6,    6,    6,    6,    6,    6,\n",
       "          6,    6,    6,    6,    6,    6,    6,    6,    6,    6,    6,\n",
       "          6,    6,    6,    6,    6,    6,    6,    6,    6,    6,    6,\n",
       "          6,    6,    6,    6,    6,    6,    6,    6,    6,    6,    6,\n",
       "          6,    6,    6,    6,    6,    6,    6,    6,    6,    6,    6,\n",
       "          6,    6,    6,    6,    6,    6,    6,    6,    6,    6,    6,\n",
       "          6,    6,    6,    6,    6,    6,    6,    6,    6,    6,    6,\n",
       "          6,    6,    6,    6,    6,    6,    6,    6,    6,    6,    6,\n",
       "          6,    6,    6,    6,    6,    6,    6,    6,    6,    6,    6,\n",
       "          6,    6,    6,    6,    6,    6,    6,    6,    6,    6,    6,\n",
       "          6,    6,    6,    6,    6,    6,    6,    6,    6,    6,    6,\n",
       "          6,    6,    6,    6,    6,    6,    6,    6,    6,    6,    6,\n",
       "          6,    6,    6,    6,    6,    6,    6,    6,    6,    6,    6,\n",
       "          6,    6,    6,    6,    6,    6,    6,    6,    6,    6,    6,\n",
       "          6,    6,    6,    6,    6,    6,    6,    6,    6,    6,    6,\n",
       "          6,    6,    6,    6,    6,    6,    6,    6,    6,    6,    6,\n",
       "          6,    6,    6,    6,    6,    6,    6,    6,    6,    6,    6,\n",
       "          6,    6,    6,    6,    6,    6,    6,    6,    6,    6,    6,\n",
       "          6,    6,    6,    6,    6,    6,    6,    6,    6,    6,    6,\n",
       "          6,    6,    6,    6,    6,    6,    6,    6,    6,    6,    6,\n",
       "          6,    6,    6,    6,    6,    6,    6,    6,    6,    6,    6,\n",
       "          6,    6,    6,    6,    6,    6,    6,    6,    6,    6,    6,\n",
       "          6,    6,    6,    6,    6,    6,    6,    6,    6,    6,    6,\n",
       "          6,    6,    6,    6,    6,    6,    6,    6,    6,    6,    6,\n",
       "          6,    6,    6,    6,    6,    6,    6,    6,    6,    6,    6,\n",
       "          6,    6,    6,    6,    6,    6,    6,    6,    6,    6,    6,\n",
       "          6,    6,    6,    6,    6,    6,    6,    6,    6,    6,    6,\n",
       "          6,    6,    6,    6,    6,    6,    6,    6,    6,    6,    6,\n",
       "          6,    6,    6,    6,    6,    6,    6,    6,    6,    6,    6,\n",
       "          6,    6,    6,    6,    6,    6,    6,    6,    6,    6,    6,\n",
       "          6,    6,    6,    6,    6,    6,    6,    6,    6,    6,    6,\n",
       "          6,    6,    6,    6,    6,    6,    6,    6,    6,    6,    6,\n",
       "          6,    6,    6,    6,    6,    6,    6,    6,    6,    6,    6,\n",
       "          6,    6,    6,    6,    6,    6,    6,    6,    6,    6,    6,\n",
       "          6,    6,    6,    6,    6,    6,    6,    6,    6,    6,    6,\n",
       "          6,    6,    6,    6,    6,    6,    6,   29,   29,   29,   29,\n",
       "         29,   29,   29,   29,   29,   29,   29,   29,   29,   29,   29,\n",
       "         29,   29,   29,   29,   29,   29,   29,   29,   29,   29,   29,\n",
       "         29,   29,   29,   29,   29,   29,   29,   29,   29,   29,   29,\n",
       "         29,   29,   29,   29,   29,   29,   29,   29,   29,   29,   29,\n",
       "         29,   29,   29,   29,   29,   29,   29,   29,   29,   29,   29,\n",
       "         29,   29,   29,   29,   29,   29,   29,   29,   29,   29,   29,\n",
       "         29,   29,   29,   29,   29,   29,   29,   29,   29,   29,   29,\n",
       "         29,   29,   29,   29,   29,   29,   29,   29,   29,   29,   29,\n",
       "         29,   29,   29,   29,   29,   29,   29,   29,   52,   52,   52,\n",
       "         52,   52,   52,   52,   52,   52,   52,   52,   52,   52,   52,\n",
       "         52,   52,   52,   52,   52,   52,   52,   52,   52,   52,   52,\n",
       "         52,   52,   52,   52,   52,   52,   52,   52,   52,   52,   52,\n",
       "         52,   52,   52,   52,   52,   52,   52,   52,   52,   52,   52,\n",
       "         52,   52,   52,   52,   52,   52,   52,   52,   52,   52,   52,\n",
       "         52,   52,   52,   52,   52,   52,   52,   52,   52,   52,   52,\n",
       "         52,   52,   52,   52,   52,   52,   52,   52,   52,   52,   52,\n",
       "         52,   52,   52,   52,   52,   52,   52,   52,   52,   52,   52,\n",
       "         52,   52,   52,   52,   52,   52,   52,   52,   52,   52,   52,\n",
       "         52,   52,   52,   52,   52,   52,   52,   52,   52,   52,   52,\n",
       "         52,   52,   52,   52,   52,   52,   52,   52,   52,   52,   52,\n",
       "         52,   52,   52,   52,   52,   52,   52,   52,   52,   52,   52,\n",
       "         52,   52,   52,   52,   52,   52,   52,   52,   52,   52,   52,\n",
       "         52,   52,   52,   52,   52,   52,   52,   52,   52,   52,   52,\n",
       "         52,   52,   52,   52,   52,   52,   52,   52,   52,   52,   52,\n",
       "         52,   52,   52,   52,   52,   52,  258,  258,  258,  258,  258,\n",
       "        258,  258,  258,  258,  258,  258,  258,  258,  258,  258,  258,\n",
       "        258,  258,  258,  258,  258,  258,  258,  258,  258,  341,  341,\n",
       "        341,  341,  341,  341,  341, 2395, 3768, 5565, 5565, 5565])"
      ]
     },
     "execution_count": 21,
     "metadata": {},
     "output_type": "execute_result"
    }
   ],
   "source": [
    "merge_algorithm(dt)"
   ]
  },
  {
   "cell_type": "markdown",
   "id": "9d4798e7",
   "metadata": {},
   "source": [
    "### Algorithm of your choice\n",
    "\n",
    "Know implement another algorithm, anyone works. Use the same size of data."
   ]
  },
  {
   "cell_type": "code",
   "execution_count": 53,
   "id": "8642b91f",
   "metadata": {},
   "outputs": [],
   "source": [
    "# it checkes if the array is sorted\n",
    "def sorted(arr):\n",
    "    n = len(arr)\n",
    "    for i in range(0, n-1):\n",
    "        if (arr[i] > arr[i+1] ):\n",
    "            return False\n",
    "    return True"
   ]
  },
  {
   "cell_type": "code",
   "execution_count": 54,
   "id": "c5782ce9",
   "metadata": {},
   "outputs": [],
   "source": [
    "# it randomly shuffles the array\n",
    "def mix(arr):\n",
    "    n = len(arr)\n",
    "    for i in range (0,n):\n",
    "        r = random.randint(0,n-1)\n",
    "        arr[i], arr[r] = arr[r], arr[i]"
   ]
  },
  {
   "cell_type": "code",
   "execution_count": 55,
   "id": "45030b7f",
   "metadata": {},
   "outputs": [],
   "source": [
    "#implements bogosort\n",
    "def bogosort(arr):\n",
    "    n= len(arr)\n",
    "    while (sorted(arr)== False):\n",
    "        mix(arr)"
   ]
  },
  {
   "cell_type": "code",
   "execution_count": 56,
   "id": "a7f1830a",
   "metadata": {},
   "outputs": [],
   "source": [
    "# it implements bogosort and shows how long it took\n",
    "def bogo_algorithm(arr):\n",
    "    start = time.time()\n",
    "    bogosort(arr)\n",
    "    end = time.time()\n",
    "    print(\"The time of execution of above program is :\", (end-start) * 10**3, \"ms\", \"for a size of \", len(arr))\n",
    "    return arr"
   ]
  },
  {
   "cell_type": "code",
   "execution_count": 52,
   "id": "d8b23b18",
   "metadata": {},
   "outputs": [
    {
     "name": "stdout",
     "output_type": "stream",
     "text": [
      "The time of execution of above program is : 63735.87131500244 ms for a size of  10\n"
     ]
    },
    {
     "data": {
      "text/plain": [
       "array([2110, 3278, 3593, 3594, 4372, 5324, 6514, 6760, 9418, 9772])"
      ]
     },
     "execution_count": 52,
     "metadata": {},
     "output_type": "execute_result"
    }
   ],
   "source": [
    "bogo_algorithm(dt)\n"
   ]
  },
  {
   "cell_type": "markdown",
   "id": "7a20750b",
   "metadata": {},
   "source": [
    "### Conclusions\n",
    "\n",
    "So, the algorithm matters! Even when the result is the same, the time it takes is important. We are in the era of Big Data, if we are not careful, some processing might take centuries!"
   ]
  },
  {
   "attachments": {},
   "cell_type": "markdown",
   "id": "b2b8b577",
   "metadata": {},
   "source": [
    "NEVER USE BOGOSORT!!!!!!!!!!!!!"
   ]
  }
 ],
 "metadata": {
  "kernelspec": {
   "display_name": "base",
   "language": "python",
   "name": "python3"
  },
  "language_info": {
   "codemirror_mode": {
    "name": "ipython",
    "version": 3
   },
   "file_extension": ".py",
   "mimetype": "text/x-python",
   "name": "python",
   "nbconvert_exporter": "python",
   "pygments_lexer": "ipython3",
   "version": "3.9.13"
  },
  "vscode": {
   "interpreter": {
    "hash": "f08154012ddadd8e950e6e9e035c7a7b32c136e7647e9b7c77e02eb723a8bedb"
   }
  }
 },
 "nbformat": 4,
 "nbformat_minor": 5
}
